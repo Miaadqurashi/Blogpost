{
 "cells": [
  {
   "cell_type": "markdown",
   "metadata": {},
   "source": [
    "# 2- Data Understanding "
   ]
  },
  {
   "cell_type": "markdown",
   "metadata": {},
   "source": [
    " ## 2.1 Loading Data "
   ]
  },
  {
   "cell_type": "code",
   "execution_count": 1,
   "metadata": {},
   "outputs": [],
   "source": [
    "import pandas as pd \n",
    "import numpy as np \n",
    "from collections import OrderedDict"
   ]
  },
  {
   "cell_type": "code",
   "execution_count": 2,
   "metadata": {},
   "outputs": [
    {
     "name": "stdout",
     "output_type": "stream",
     "text": [
      "Listings shape is (3818, 92)\n",
      "Calendar shape is (1393570, 4)\n",
      "3818x365 = 1393570\n",
      "reviews shape is (84849, 6)\n"
     ]
    }
   ],
   "source": [
    "seattle_calendar = pd.read_csv('seattle/calendar.csv')\n",
    "seattle_listings = pd.read_csv('seattle/listings.csv')\n",
    "seattle_reviews = pd.read_csv('seattle/reviews.csv')\n",
    "print(f'Listings shape is {seattle_listings.shape}')\n",
    "print(f'Calendar shape is {seattle_calendar.shape}')\n",
    "print(f'{3818}x{365} = 1393570')\n",
    "print(f'reviews shape is {seattle_reviews.shape}')"
   ]
  },
  {
   "cell_type": "code",
   "execution_count": 3,
   "metadata": {},
   "outputs": [
    {
     "name": "stdout",
     "output_type": "stream",
     "text": [
      "Listings shape is (3585, 95)\n",
      "Calendar shape is (1308890, 4)\n",
      "3585x365 = 1308525\n",
      "reviews shape is (68275, 6)\n"
     ]
    }
   ],
   "source": [
    "boston_calendar = pd.read_csv('boston-airbnb-open-data/calendar.csv')\n",
    "boston_listings = pd.read_csv('boston-airbnb-open-data/listings.csv')\n",
    "boston_reviews = pd.read_csv('boston-airbnb-open-data/reviews.csv')\n",
    "print(f'Listings shape is {boston_listings.shape}')\n",
    "print(f'Calendar shape is {boston_calendar.shape}')\n",
    "print(f'{3585}x{365} = {3585*365}')\n",
    "print(f'reviews shape is {boston_reviews.shape}')"
   ]
  },
  {
   "cell_type": "markdown",
   "metadata": {},
   "source": [
    "## 2.2 Calendar"
   ]
  },
  {
   "cell_type": "markdown",
   "metadata": {},
   "source": [
    "Calendar data has 4 columns; listing_id : relating to the primary key of listings.csv,\n",
    "\n",
    "data: the date of the reporting of that price, \n",
    "\n",
    "available: t for available and f for not, \n",
    "\n",
    "price: price in dollars on that day for that particular listing."
   ]
  },
  {
   "cell_type": "code",
   "execution_count": 4,
   "metadata": {},
   "outputs": [
    {
     "data": {
      "text/plain": [
       "t    67.061002\n",
       "f    32.938998\n",
       "Name: available, dtype: float64"
      ]
     },
     "execution_count": 4,
     "metadata": {},
     "output_type": "execute_result"
    }
   ],
   "source": [
    "seattle_calendar.available.value_counts() / seattle_calendar.shape[0] *100"
   ]
  },
  {
   "cell_type": "code",
   "execution_count": 5,
   "metadata": {},
   "outputs": [
    {
     "data": {
      "text/plain": [
       "f    50.871578\n",
       "t    49.128422\n",
       "Name: available, dtype: float64"
      ]
     },
     "execution_count": 5,
     "metadata": {},
     "output_type": "execute_result"
    }
   ],
   "source": [
    "boston_calendar.available.value_counts() / boston_calendar.shape[0] *100"
   ]
  },
  {
   "cell_type": "markdown",
   "metadata": {},
   "source": [
    "We find that 67% of seattle calendar data is available while only 51% in boston's calendar. \n",
    "\n",
    "We are yet to find if there is reason behind this missing data or does it follow a specific distribution. \n",
    "\n",
    "Things to try: check the distribution of false values over the year per month or per day. for all listings.\n",
    "\n",
    "For now we suppose that not being available means that the listing was booking or for some other reason unavailable."
   ]
  },
  {
   "cell_type": "markdown",
   "metadata": {},
   "source": [
    " We found that not all listings had 365 entries. \n",
    " \n",
    " By checking we find the listing that is different "
   ]
  },
  {
   "cell_type": "code",
   "execution_count": 6,
   "metadata": {},
   "outputs": [
    {
     "data": {
      "text/plain": [
       "listing_id\n",
       "12898806    730\n",
       "Name: date, dtype: int64"
      ]
     },
     "execution_count": 6,
     "metadata": {},
     "output_type": "execute_result"
    }
   ],
   "source": [
    "boston_calendar.groupby('listing_id')['date'].count()[boston_calendar.groupby('listing_id')['date'].count()!=365]"
   ]
  },
  {
   "cell_type": "code",
   "execution_count": 7,
   "metadata": {},
   "outputs": [
    {
     "data": {
      "text/plain": [
       "f    570\n",
       "t    160\n",
       "Name: available, dtype: int64"
      ]
     },
     "execution_count": 7,
     "metadata": {},
     "output_type": "execute_result"
    }
   ],
   "source": [
    "boston_calendar_different = boston_calendar[boston_calendar.listing_id == 12898806]\n",
    "boston_calendar_different.available.value_counts()"
   ]
  },
  {
   "cell_type": "code",
   "execution_count": 8,
   "metadata": {},
   "outputs": [
    {
     "data": {
      "text/html": [
       "<div>\n",
       "<style scoped>\n",
       "    .dataframe tbody tr th:only-of-type {\n",
       "        vertical-align: middle;\n",
       "    }\n",
       "\n",
       "    .dataframe tbody tr th {\n",
       "        vertical-align: top;\n",
       "    }\n",
       "\n",
       "    .dataframe thead th {\n",
       "        text-align: right;\n",
       "    }\n",
       "</style>\n",
       "<table border=\"1\" class=\"dataframe\">\n",
       "  <thead>\n",
       "    <tr style=\"text-align: right;\">\n",
       "      <th></th>\n",
       "      <th>listing_id</th>\n",
       "      <th>date</th>\n",
       "      <th>available</th>\n",
       "      <th>price</th>\n",
       "    </tr>\n",
       "  </thead>\n",
       "  <tbody>\n",
       "    <tr>\n",
       "      <th>748873</th>\n",
       "      <td>12898806</td>\n",
       "      <td>2016-09-06</td>\n",
       "      <td>t</td>\n",
       "      <td>$220.00</td>\n",
       "    </tr>\n",
       "    <tr>\n",
       "      <th>748850</th>\n",
       "      <td>12898806</td>\n",
       "      <td>2016-09-06</td>\n",
       "      <td>t</td>\n",
       "      <td>$220.00</td>\n",
       "    </tr>\n",
       "    <tr>\n",
       "      <th>748872</th>\n",
       "      <td>12898806</td>\n",
       "      <td>2016-09-07</td>\n",
       "      <td>t</td>\n",
       "      <td>$220.00</td>\n",
       "    </tr>\n",
       "    <tr>\n",
       "      <th>748849</th>\n",
       "      <td>12898806</td>\n",
       "      <td>2016-09-07</td>\n",
       "      <td>t</td>\n",
       "      <td>$220.00</td>\n",
       "    </tr>\n",
       "    <tr>\n",
       "      <th>748871</th>\n",
       "      <td>12898806</td>\n",
       "      <td>2016-09-08</td>\n",
       "      <td>t</td>\n",
       "      <td>$220.00</td>\n",
       "    </tr>\n",
       "    <tr>\n",
       "      <th>748848</th>\n",
       "      <td>12898806</td>\n",
       "      <td>2016-09-08</td>\n",
       "      <td>t</td>\n",
       "      <td>$220.00</td>\n",
       "    </tr>\n",
       "    <tr>\n",
       "      <th>748870</th>\n",
       "      <td>12898806</td>\n",
       "      <td>2016-09-09</td>\n",
       "      <td>t</td>\n",
       "      <td>$220.00</td>\n",
       "    </tr>\n",
       "    <tr>\n",
       "      <th>748847</th>\n",
       "      <td>12898806</td>\n",
       "      <td>2016-09-09</td>\n",
       "      <td>t</td>\n",
       "      <td>$220.00</td>\n",
       "    </tr>\n",
       "    <tr>\n",
       "      <th>748869</th>\n",
       "      <td>12898806</td>\n",
       "      <td>2016-09-10</td>\n",
       "      <td>t</td>\n",
       "      <td>$220.00</td>\n",
       "    </tr>\n",
       "    <tr>\n",
       "      <th>748846</th>\n",
       "      <td>12898806</td>\n",
       "      <td>2016-09-10</td>\n",
       "      <td>t</td>\n",
       "      <td>$220.00</td>\n",
       "    </tr>\n",
       "    <tr>\n",
       "      <th>748732</th>\n",
       "      <td>12898806</td>\n",
       "      <td>2016-09-11</td>\n",
       "      <td>t</td>\n",
       "      <td>$220.00</td>\n",
       "    </tr>\n",
       "    <tr>\n",
       "      <th>748845</th>\n",
       "      <td>12898806</td>\n",
       "      <td>2016-09-11</td>\n",
       "      <td>t</td>\n",
       "      <td>$220.00</td>\n",
       "    </tr>\n",
       "    <tr>\n",
       "      <th>748844</th>\n",
       "      <td>12898806</td>\n",
       "      <td>2016-09-12</td>\n",
       "      <td>t</td>\n",
       "      <td>$220.00</td>\n",
       "    </tr>\n",
       "    <tr>\n",
       "      <th>748731</th>\n",
       "      <td>12898806</td>\n",
       "      <td>2016-09-12</td>\n",
       "      <td>t</td>\n",
       "      <td>$220.00</td>\n",
       "    </tr>\n",
       "    <tr>\n",
       "      <th>748843</th>\n",
       "      <td>12898806</td>\n",
       "      <td>2016-09-13</td>\n",
       "      <td>t</td>\n",
       "      <td>$220.00</td>\n",
       "    </tr>\n",
       "    <tr>\n",
       "      <th>748730</th>\n",
       "      <td>12898806</td>\n",
       "      <td>2016-09-13</td>\n",
       "      <td>t</td>\n",
       "      <td>$220.00</td>\n",
       "    </tr>\n",
       "    <tr>\n",
       "      <th>748832</th>\n",
       "      <td>12898806</td>\n",
       "      <td>2016-09-24</td>\n",
       "      <td>t</td>\n",
       "      <td>$220.00</td>\n",
       "    </tr>\n",
       "    <tr>\n",
       "      <th>748719</th>\n",
       "      <td>12898806</td>\n",
       "      <td>2016-09-24</td>\n",
       "      <td>t</td>\n",
       "      <td>$220.00</td>\n",
       "    </tr>\n",
       "    <tr>\n",
       "      <th>748718</th>\n",
       "      <td>12898806</td>\n",
       "      <td>2016-09-25</td>\n",
       "      <td>t</td>\n",
       "      <td>$220.00</td>\n",
       "    </tr>\n",
       "    <tr>\n",
       "      <th>748831</th>\n",
       "      <td>12898806</td>\n",
       "      <td>2016-09-25</td>\n",
       "      <td>t</td>\n",
       "      <td>$220.00</td>\n",
       "    </tr>\n",
       "    <tr>\n",
       "      <th>748830</th>\n",
       "      <td>12898806</td>\n",
       "      <td>2016-09-26</td>\n",
       "      <td>t</td>\n",
       "      <td>$220.00</td>\n",
       "    </tr>\n",
       "    <tr>\n",
       "      <th>748717</th>\n",
       "      <td>12898806</td>\n",
       "      <td>2016-09-26</td>\n",
       "      <td>t</td>\n",
       "      <td>$220.00</td>\n",
       "    </tr>\n",
       "    <tr>\n",
       "      <th>748829</th>\n",
       "      <td>12898806</td>\n",
       "      <td>2016-09-27</td>\n",
       "      <td>t</td>\n",
       "      <td>$220.00</td>\n",
       "    </tr>\n",
       "    <tr>\n",
       "      <th>748716</th>\n",
       "      <td>12898806</td>\n",
       "      <td>2016-09-27</td>\n",
       "      <td>t</td>\n",
       "      <td>$220.00</td>\n",
       "    </tr>\n",
       "    <tr>\n",
       "      <th>748828</th>\n",
       "      <td>12898806</td>\n",
       "      <td>2016-09-28</td>\n",
       "      <td>t</td>\n",
       "      <td>$220.00</td>\n",
       "    </tr>\n",
       "    <tr>\n",
       "      <th>748715</th>\n",
       "      <td>12898806</td>\n",
       "      <td>2016-09-28</td>\n",
       "      <td>t</td>\n",
       "      <td>$220.00</td>\n",
       "    </tr>\n",
       "    <tr>\n",
       "      <th>748827</th>\n",
       "      <td>12898806</td>\n",
       "      <td>2016-09-29</td>\n",
       "      <td>t</td>\n",
       "      <td>$220.00</td>\n",
       "    </tr>\n",
       "    <tr>\n",
       "      <th>748714</th>\n",
       "      <td>12898806</td>\n",
       "      <td>2016-09-29</td>\n",
       "      <td>t</td>\n",
       "      <td>$220.00</td>\n",
       "    </tr>\n",
       "    <tr>\n",
       "      <th>748826</th>\n",
       "      <td>12898806</td>\n",
       "      <td>2016-09-30</td>\n",
       "      <td>t</td>\n",
       "      <td>$220.00</td>\n",
       "    </tr>\n",
       "    <tr>\n",
       "      <th>748713</th>\n",
       "      <td>12898806</td>\n",
       "      <td>2016-09-30</td>\n",
       "      <td>t</td>\n",
       "      <td>$220.00</td>\n",
       "    </tr>\n",
       "    <tr>\n",
       "      <th>...</th>\n",
       "      <td>...</td>\n",
       "      <td>...</td>\n",
       "      <td>...</td>\n",
       "      <td>...</td>\n",
       "    </tr>\n",
       "    <tr>\n",
       "      <th>748662</th>\n",
       "      <td>12898806</td>\n",
       "      <td>2016-11-20</td>\n",
       "      <td>t</td>\n",
       "      <td>$220.00</td>\n",
       "    </tr>\n",
       "    <tr>\n",
       "      <th>748775</th>\n",
       "      <td>12898806</td>\n",
       "      <td>2016-11-20</td>\n",
       "      <td>t</td>\n",
       "      <td>$220.00</td>\n",
       "    </tr>\n",
       "    <tr>\n",
       "      <th>748774</th>\n",
       "      <td>12898806</td>\n",
       "      <td>2016-11-21</td>\n",
       "      <td>t</td>\n",
       "      <td>$220.00</td>\n",
       "    </tr>\n",
       "    <tr>\n",
       "      <th>748661</th>\n",
       "      <td>12898806</td>\n",
       "      <td>2016-11-21</td>\n",
       "      <td>t</td>\n",
       "      <td>$220.00</td>\n",
       "    </tr>\n",
       "    <tr>\n",
       "      <th>748773</th>\n",
       "      <td>12898806</td>\n",
       "      <td>2016-11-22</td>\n",
       "      <td>t</td>\n",
       "      <td>$220.00</td>\n",
       "    </tr>\n",
       "    <tr>\n",
       "      <th>748660</th>\n",
       "      <td>12898806</td>\n",
       "      <td>2016-11-22</td>\n",
       "      <td>t</td>\n",
       "      <td>$220.00</td>\n",
       "    </tr>\n",
       "    <tr>\n",
       "      <th>748659</th>\n",
       "      <td>12898806</td>\n",
       "      <td>2016-11-23</td>\n",
       "      <td>t</td>\n",
       "      <td>$220.00</td>\n",
       "    </tr>\n",
       "    <tr>\n",
       "      <th>748772</th>\n",
       "      <td>12898806</td>\n",
       "      <td>2016-11-23</td>\n",
       "      <td>t</td>\n",
       "      <td>$220.00</td>\n",
       "    </tr>\n",
       "    <tr>\n",
       "      <th>748771</th>\n",
       "      <td>12898806</td>\n",
       "      <td>2016-11-24</td>\n",
       "      <td>t</td>\n",
       "      <td>$220.00</td>\n",
       "    </tr>\n",
       "    <tr>\n",
       "      <th>748658</th>\n",
       "      <td>12898806</td>\n",
       "      <td>2016-11-24</td>\n",
       "      <td>t</td>\n",
       "      <td>$220.00</td>\n",
       "    </tr>\n",
       "    <tr>\n",
       "      <th>748770</th>\n",
       "      <td>12898806</td>\n",
       "      <td>2016-11-25</td>\n",
       "      <td>t</td>\n",
       "      <td>$220.00</td>\n",
       "    </tr>\n",
       "    <tr>\n",
       "      <th>748657</th>\n",
       "      <td>12898806</td>\n",
       "      <td>2016-11-25</td>\n",
       "      <td>t</td>\n",
       "      <td>$220.00</td>\n",
       "    </tr>\n",
       "    <tr>\n",
       "      <th>748769</th>\n",
       "      <td>12898806</td>\n",
       "      <td>2016-11-26</td>\n",
       "      <td>t</td>\n",
       "      <td>$220.00</td>\n",
       "    </tr>\n",
       "    <tr>\n",
       "      <th>748656</th>\n",
       "      <td>12898806</td>\n",
       "      <td>2016-11-26</td>\n",
       "      <td>t</td>\n",
       "      <td>$220.00</td>\n",
       "    </tr>\n",
       "    <tr>\n",
       "      <th>748768</th>\n",
       "      <td>12898806</td>\n",
       "      <td>2016-11-27</td>\n",
       "      <td>t</td>\n",
       "      <td>$220.00</td>\n",
       "    </tr>\n",
       "    <tr>\n",
       "      <th>748655</th>\n",
       "      <td>12898806</td>\n",
       "      <td>2016-11-27</td>\n",
       "      <td>t</td>\n",
       "      <td>$220.00</td>\n",
       "    </tr>\n",
       "    <tr>\n",
       "      <th>748767</th>\n",
       "      <td>12898806</td>\n",
       "      <td>2016-11-28</td>\n",
       "      <td>t</td>\n",
       "      <td>$220.00</td>\n",
       "    </tr>\n",
       "    <tr>\n",
       "      <th>748654</th>\n",
       "      <td>12898806</td>\n",
       "      <td>2016-11-28</td>\n",
       "      <td>t</td>\n",
       "      <td>$220.00</td>\n",
       "    </tr>\n",
       "    <tr>\n",
       "      <th>748653</th>\n",
       "      <td>12898806</td>\n",
       "      <td>2016-11-29</td>\n",
       "      <td>t</td>\n",
       "      <td>$220.00</td>\n",
       "    </tr>\n",
       "    <tr>\n",
       "      <th>748766</th>\n",
       "      <td>12898806</td>\n",
       "      <td>2016-11-29</td>\n",
       "      <td>t</td>\n",
       "      <td>$220.00</td>\n",
       "    </tr>\n",
       "    <tr>\n",
       "      <th>748765</th>\n",
       "      <td>12898806</td>\n",
       "      <td>2016-11-30</td>\n",
       "      <td>t</td>\n",
       "      <td>$220.00</td>\n",
       "    </tr>\n",
       "    <tr>\n",
       "      <th>748652</th>\n",
       "      <td>12898806</td>\n",
       "      <td>2016-11-30</td>\n",
       "      <td>t</td>\n",
       "      <td>$220.00</td>\n",
       "    </tr>\n",
       "    <tr>\n",
       "      <th>748651</th>\n",
       "      <td>12898806</td>\n",
       "      <td>2016-12-01</td>\n",
       "      <td>t</td>\n",
       "      <td>$220.00</td>\n",
       "    </tr>\n",
       "    <tr>\n",
       "      <th>748764</th>\n",
       "      <td>12898806</td>\n",
       "      <td>2016-12-01</td>\n",
       "      <td>t</td>\n",
       "      <td>$220.00</td>\n",
       "    </tr>\n",
       "    <tr>\n",
       "      <th>748763</th>\n",
       "      <td>12898806</td>\n",
       "      <td>2016-12-02</td>\n",
       "      <td>t</td>\n",
       "      <td>$220.00</td>\n",
       "    </tr>\n",
       "    <tr>\n",
       "      <th>748650</th>\n",
       "      <td>12898806</td>\n",
       "      <td>2016-12-02</td>\n",
       "      <td>t</td>\n",
       "      <td>$220.00</td>\n",
       "    </tr>\n",
       "    <tr>\n",
       "      <th>748762</th>\n",
       "      <td>12898806</td>\n",
       "      <td>2016-12-03</td>\n",
       "      <td>t</td>\n",
       "      <td>$220.00</td>\n",
       "    </tr>\n",
       "    <tr>\n",
       "      <th>748649</th>\n",
       "      <td>12898806</td>\n",
       "      <td>2016-12-03</td>\n",
       "      <td>t</td>\n",
       "      <td>$220.00</td>\n",
       "    </tr>\n",
       "    <tr>\n",
       "      <th>748761</th>\n",
       "      <td>12898806</td>\n",
       "      <td>2016-12-04</td>\n",
       "      <td>t</td>\n",
       "      <td>$220.00</td>\n",
       "    </tr>\n",
       "    <tr>\n",
       "      <th>748648</th>\n",
       "      <td>12898806</td>\n",
       "      <td>2016-12-04</td>\n",
       "      <td>t</td>\n",
       "      <td>$220.00</td>\n",
       "    </tr>\n",
       "  </tbody>\n",
       "</table>\n",
       "<p>160 rows × 4 columns</p>\n",
       "</div>"
      ],
      "text/plain": [
       "        listing_id        date available    price\n",
       "748873    12898806  2016-09-06         t  $220.00\n",
       "748850    12898806  2016-09-06         t  $220.00\n",
       "748872    12898806  2016-09-07         t  $220.00\n",
       "748849    12898806  2016-09-07         t  $220.00\n",
       "748871    12898806  2016-09-08         t  $220.00\n",
       "748848    12898806  2016-09-08         t  $220.00\n",
       "748870    12898806  2016-09-09         t  $220.00\n",
       "748847    12898806  2016-09-09         t  $220.00\n",
       "748869    12898806  2016-09-10         t  $220.00\n",
       "748846    12898806  2016-09-10         t  $220.00\n",
       "748732    12898806  2016-09-11         t  $220.00\n",
       "748845    12898806  2016-09-11         t  $220.00\n",
       "748844    12898806  2016-09-12         t  $220.00\n",
       "748731    12898806  2016-09-12         t  $220.00\n",
       "748843    12898806  2016-09-13         t  $220.00\n",
       "748730    12898806  2016-09-13         t  $220.00\n",
       "748832    12898806  2016-09-24         t  $220.00\n",
       "748719    12898806  2016-09-24         t  $220.00\n",
       "748718    12898806  2016-09-25         t  $220.00\n",
       "748831    12898806  2016-09-25         t  $220.00\n",
       "748830    12898806  2016-09-26         t  $220.00\n",
       "748717    12898806  2016-09-26         t  $220.00\n",
       "748829    12898806  2016-09-27         t  $220.00\n",
       "748716    12898806  2016-09-27         t  $220.00\n",
       "748828    12898806  2016-09-28         t  $220.00\n",
       "748715    12898806  2016-09-28         t  $220.00\n",
       "748827    12898806  2016-09-29         t  $220.00\n",
       "748714    12898806  2016-09-29         t  $220.00\n",
       "748826    12898806  2016-09-30         t  $220.00\n",
       "748713    12898806  2016-09-30         t  $220.00\n",
       "...            ...         ...       ...      ...\n",
       "748662    12898806  2016-11-20         t  $220.00\n",
       "748775    12898806  2016-11-20         t  $220.00\n",
       "748774    12898806  2016-11-21         t  $220.00\n",
       "748661    12898806  2016-11-21         t  $220.00\n",
       "748773    12898806  2016-11-22         t  $220.00\n",
       "748660    12898806  2016-11-22         t  $220.00\n",
       "748659    12898806  2016-11-23         t  $220.00\n",
       "748772    12898806  2016-11-23         t  $220.00\n",
       "748771    12898806  2016-11-24         t  $220.00\n",
       "748658    12898806  2016-11-24         t  $220.00\n",
       "748770    12898806  2016-11-25         t  $220.00\n",
       "748657    12898806  2016-11-25         t  $220.00\n",
       "748769    12898806  2016-11-26         t  $220.00\n",
       "748656    12898806  2016-11-26         t  $220.00\n",
       "748768    12898806  2016-11-27         t  $220.00\n",
       "748655    12898806  2016-11-27         t  $220.00\n",
       "748767    12898806  2016-11-28         t  $220.00\n",
       "748654    12898806  2016-11-28         t  $220.00\n",
       "748653    12898806  2016-11-29         t  $220.00\n",
       "748766    12898806  2016-11-29         t  $220.00\n",
       "748765    12898806  2016-11-30         t  $220.00\n",
       "748652    12898806  2016-11-30         t  $220.00\n",
       "748651    12898806  2016-12-01         t  $220.00\n",
       "748764    12898806  2016-12-01         t  $220.00\n",
       "748763    12898806  2016-12-02         t  $220.00\n",
       "748650    12898806  2016-12-02         t  $220.00\n",
       "748762    12898806  2016-12-03         t  $220.00\n",
       "748649    12898806  2016-12-03         t  $220.00\n",
       "748761    12898806  2016-12-04         t  $220.00\n",
       "748648    12898806  2016-12-04         t  $220.00\n",
       "\n",
       "[160 rows x 4 columns]"
      ]
     },
     "execution_count": 8,
     "metadata": {},
     "output_type": "execute_result"
    }
   ],
   "source": [
    "boston_calendar_different_avlbl = boston_calendar_different[boston_calendar_different.available == 't']\n",
    "boston_calendar_different_avlbl.sort_values(by = 'date')"
   ]
  },
  {
   "cell_type": "markdown",
   "metadata": {},
   "source": [
    "Seems like the data is duplicated since all the dates are available twice \n",
    "\n",
    "We make another test to make sure. "
   ]
  },
  {
   "cell_type": "code",
   "execution_count": 9,
   "metadata": {},
   "outputs": [
    {
     "name": "stdout",
     "output_type": "stream",
     "text": [
      "True\n",
      "True\n",
      "True\n"
     ]
    }
   ],
   "source": [
    "print(boston_calendar_different.sort_values(by = 'date')[::2].date.tolist() == boston_calendar_different.sort_values(by = 'date')[1::2].date.tolist())\n",
    "print(boston_calendar_different.sort_values(by = 'date')[::2].price.tolist() == boston_calendar_different.sort_values(by = 'date')[1::2].price.tolist())\n",
    "print(boston_calendar_different.sort_values(by = 'date')[::2].available.tolist() == boston_calendar_different.sort_values(by = 'date')[1::2].available.tolist())"
   ]
  },
  {
   "cell_type": "markdown",
   "metadata": {},
   "source": [
    "It is confirmed that the data is just duplicated. Will be removed in Data preparation section."
   ]
  },
  {
   "cell_type": "markdown",
   "metadata": {},
   "source": [
    "## 2.2 Listings"
   ]
  },
  {
   "cell_type": "markdown",
   "metadata": {},
   "source": [
    "We start by examining the columns avaliable. The first finding is that Boston and Seattle and Boston do not have the same number of attributes. "
   ]
  },
  {
   "cell_type": "code",
   "execution_count": 10,
   "metadata": {},
   "outputs": [
    {
     "name": "stdout",
     "output_type": "stream",
     "text": [
      "Number of Boston attributes = 95 \n",
      "Number of Seattle attributes = 92\n"
     ]
    }
   ],
   "source": [
    "print(f'Number of Boston attributes = {len(boston_listings.columns)} \\nNumber of Seattle attributes = {len(seattle_listings.columns)}')"
   ]
  },
  {
   "cell_type": "code",
   "execution_count": 11,
   "metadata": {},
   "outputs": [
    {
     "name": "stdout",
     "output_type": "stream",
     "text": [
      "Attribute access in boston but not seattle\n",
      "Attribute interaction in boston but not seattle\n",
      "Attribute house_rules in boston but not seattle\n"
     ]
    }
   ],
   "source": [
    "for column in boston_listings.columns:\n",
    "    if column not in seattle_listings.columns:\n",
    "        print(f'Attribute {column} in boston but not seattle')"
   ]
  },
  {
   "cell_type": "code",
   "execution_count": 12,
   "metadata": {},
   "outputs": [
    {
     "data": {
      "text/plain": [
       "Index(['id', 'listing_url', 'scrape_id', 'last_scraped', 'name', 'summary',\n",
       "       'space', 'description', 'experiences_offered', 'neighborhood_overview',\n",
       "       'notes', 'transit', 'thumbnail_url', 'medium_url', 'picture_url',\n",
       "       'xl_picture_url', 'host_id', 'host_url', 'host_name', 'host_since',\n",
       "       'host_location', 'host_about', 'host_response_time',\n",
       "       'host_response_rate', 'host_acceptance_rate', 'host_is_superhost',\n",
       "       'host_thumbnail_url', 'host_picture_url', 'host_neighbourhood',\n",
       "       'host_listings_count', 'host_total_listings_count',\n",
       "       'host_verifications', 'host_has_profile_pic', 'host_identity_verified',\n",
       "       'street', 'neighbourhood', 'neighbourhood_cleansed',\n",
       "       'neighbourhood_group_cleansed', 'city', 'state', 'zipcode', 'market',\n",
       "       'smart_location', 'country_code', 'country', 'latitude', 'longitude',\n",
       "       'is_location_exact', 'property_type', 'room_type', 'accommodates',\n",
       "       'bathrooms', 'bedrooms', 'beds', 'bed_type', 'amenities', 'square_feet',\n",
       "       'price', 'weekly_price', 'monthly_price', 'security_deposit',\n",
       "       'cleaning_fee', 'guests_included', 'extra_people', 'minimum_nights',\n",
       "       'maximum_nights', 'calendar_updated', 'has_availability',\n",
       "       'availability_30', 'availability_60', 'availability_90',\n",
       "       'availability_365', 'calendar_last_scraped', 'number_of_reviews',\n",
       "       'first_review', 'last_review', 'review_scores_rating',\n",
       "       'review_scores_accuracy', 'review_scores_cleanliness',\n",
       "       'review_scores_checkin', 'review_scores_communication',\n",
       "       'review_scores_location', 'review_scores_value', 'requires_license',\n",
       "       'license', 'jurisdiction_names', 'instant_bookable',\n",
       "       'cancellation_policy', 'require_guest_profile_picture',\n",
       "       'require_guest_phone_verification', 'calculated_host_listings_count',\n",
       "       'reviews_per_month'],\n",
       "      dtype='object')"
      ]
     },
     "execution_count": 12,
     "metadata": {},
     "output_type": "execute_result"
    }
   ],
   "source": [
    "seattle_listings.columns"
   ]
  },
  {
   "cell_type": "code",
   "execution_count": 13,
   "metadata": {},
   "outputs": [
    {
     "data": {
      "text/plain": [
       "Index(['id', 'listing_url', 'scrape_id', 'last_scraped', 'name', 'summary',\n",
       "       'space', 'description', 'experiences_offered', 'neighborhood_overview',\n",
       "       'notes', 'transit', 'access', 'interaction', 'house_rules',\n",
       "       'thumbnail_url', 'medium_url', 'picture_url', 'xl_picture_url',\n",
       "       'host_id', 'host_url', 'host_name', 'host_since', 'host_location',\n",
       "       'host_about', 'host_response_time', 'host_response_rate',\n",
       "       'host_acceptance_rate', 'host_is_superhost', 'host_thumbnail_url',\n",
       "       'host_picture_url', 'host_neighbourhood', 'host_listings_count',\n",
       "       'host_total_listings_count', 'host_verifications',\n",
       "       'host_has_profile_pic', 'host_identity_verified', 'street',\n",
       "       'neighbourhood', 'neighbourhood_cleansed',\n",
       "       'neighbourhood_group_cleansed', 'city', 'state', 'zipcode', 'market',\n",
       "       'smart_location', 'country_code', 'country', 'latitude', 'longitude',\n",
       "       'is_location_exact', 'property_type', 'room_type', 'accommodates',\n",
       "       'bathrooms', 'bedrooms', 'beds', 'bed_type', 'amenities', 'square_feet',\n",
       "       'price', 'weekly_price', 'monthly_price', 'security_deposit',\n",
       "       'cleaning_fee', 'guests_included', 'extra_people', 'minimum_nights',\n",
       "       'maximum_nights', 'calendar_updated', 'has_availability',\n",
       "       'availability_30', 'availability_60', 'availability_90',\n",
       "       'availability_365', 'calendar_last_scraped', 'number_of_reviews',\n",
       "       'first_review', 'last_review', 'review_scores_rating',\n",
       "       'review_scores_accuracy', 'review_scores_cleanliness',\n",
       "       'review_scores_checkin', 'review_scores_communication',\n",
       "       'review_scores_location', 'review_scores_value', 'requires_license',\n",
       "       'license', 'jurisdiction_names', 'instant_bookable',\n",
       "       'cancellation_policy', 'require_guest_profile_picture',\n",
       "       'require_guest_phone_verification', 'calculated_host_listings_count',\n",
       "       'reviews_per_month'],\n",
       "      dtype='object')"
      ]
     },
     "execution_count": 13,
     "metadata": {},
     "output_type": "execute_result"
    }
   ],
   "source": [
    "boston_listings.columns"
   ]
  },
  {
   "cell_type": "markdown",
   "metadata": {},
   "source": [
    "Some columns are all missing or have only one type of data we point them out and remove them. Also the columns that are all NaNs."
   ]
  },
  {
   "cell_type": "code",
   "execution_count": 14,
   "metadata": {},
   "outputs": [
    {
     "name": "stdout",
     "output_type": "stream",
     "text": [
      "Seattle scrape_id:\n",
      "20160104002432    3818\n",
      "Name: scrape_id, dtype: int64\n",
      "Boston scrape_id:\n",
      "20160906204935    3585\n",
      "Name: scrape_id, dtype: int64\n",
      "Seattle last_scraped:\n",
      "2016-01-04    3818\n",
      "Name: last_scraped, dtype: int64\n",
      "Boston last_scraped:\n",
      "2016-09-07    3585\n",
      "Name: last_scraped, dtype: int64\n",
      "Seattle experiences_offered:\n",
      "none    3818\n",
      "Name: experiences_offered, dtype: int64\n",
      "Boston experiences_offered:\n",
      "none    3585\n",
      "Name: experiences_offered, dtype: int64\n",
      "Seattle requires_license:\n",
      "f    3818\n",
      "Name: requires_license, dtype: int64\n",
      "Boston requires_license:\n",
      "f    3585\n",
      "Name: requires_license, dtype: int64\n",
      "Seattle city:\n",
      "Seattle                  3810\n",
      "Seattle                     2\n",
      "West Seattle                2\n",
      "西雅图                         1\n",
      "Phinney Ridge Seattle       1\n",
      "seattle                     1\n",
      "Ballard, Seattle            1\n",
      "Name: city, dtype: int64\n",
      "Seattle jurisdiction_names:\n",
      "WASHINGTON    3818\n",
      "Name: jurisdiction_names, dtype: int64\n",
      "Boston jurisdiction_names:\n",
      "Series([], Name: jurisdiction_names, dtype: int64)\n",
      "Seattle country_code:\n",
      "US    3818\n",
      "Name: country_code, dtype: int64\n",
      "Boston country_code:\n",
      "US    3585\n",
      "Name: country_code, dtype: int64\n",
      "Seattle country:\n",
      "United States    3818\n",
      "Name: country, dtype: int64\n",
      "Boston country:\n",
      "United States    3585\n",
      "Name: country, dtype: int64\n",
      "Seattle city:\n",
      "Seattle                  3810\n",
      "Seattle                     2\n",
      "West Seattle                2\n",
      "西雅图                         1\n",
      "Phinney Ridge Seattle       1\n",
      "seattle                     1\n",
      "Ballard, Seattle            1\n",
      "Name: city, dtype: int64\n",
      "Boston city:\n",
      "Boston                       3381\n",
      "Roxbury Crossing               24\n",
      "Somerville                     19\n",
      "Brookline                      18\n",
      "Jamaica Plain                  18\n",
      "Cambridge                      16\n",
      "Dorchester                     15\n",
      "Charlestown                    15\n",
      "Brighton                       15\n",
      "Allston                        12\n",
      "Roslindale                      6\n",
      "West Roxbury                    5\n",
      "ROXBURY CROSSING                4\n",
      "East Boston                     3\n",
      "Mattapan                        3\n",
      "Jamaica Plain                   2\n",
      "ALLSTON                         2\n",
      "Boston, Massachusetts, US       2\n",
      "South Boston                    2\n",
      "Jamaica Plain, Boston           2\n",
      "Hyde Park                       2\n",
      "Mission Hill, Boston            1\n",
      "Roslindale, Boston              1\n",
      "Jamaica Plain, MA               1\n",
      "Watertown                       1\n",
      "Milton                          1\n",
      "Jamaica Plain (Boston)          1\n",
      "波士顿                             1\n",
      "Boston (Charlestown)            1\n",
      "South End, Boston               1\n",
      "Boston                          1\n",
      "east Boston                     1\n",
      "dorchester, boston              1\n",
      "Brighton                        1\n",
      "Jamaica plain                   1\n",
      "Boston (Jamaica Plain)          1\n",
      "boston                          1\n",
      "Newton                          1\n",
      "Name: city, dtype: int64\n",
      "Seattle smart_location:\n",
      "Seattle, WA                  3810\n",
      "West Seattle, WA                2\n",
      "Seattle , WA                    2\n",
      "Phinney Ridge Seattle, WA       1\n",
      "西雅图, WA                         1\n",
      "Ballard, Seattle, WA            1\n",
      "seattle, wa                     1\n",
      "Name: smart_location, dtype: int64\n",
      "Seattle market:\n",
      "Seattle    3818\n",
      "Name: market, dtype: int64\n",
      "Boston market:\n",
      "Boston                   3568\n",
      "Other (International)       1\n",
      "Other (Domestic)            1\n",
      "San Francisco               1\n",
      "Name: market, dtype: int64\n",
      "Seattle calendar_last_scraped:\n",
      "2016-01-04    3818\n",
      "Name: calendar_last_scraped, dtype: int64\n",
      "Boston calendar_last_scraped:\n",
      "2016-09-06    3585\n",
      "Name: calendar_last_scraped, dtype: int64\n"
     ]
    }
   ],
   "source": [
    "print(\"Seattle scrape_id:\")\n",
    "print(seattle_listings.scrape_id.value_counts())\n",
    "print(\"Boston scrape_id:\")\n",
    "print(boston_listings.scrape_id.value_counts())\n",
    "print(\"Seattle last_scraped:\")\n",
    "print(seattle_listings.last_scraped.value_counts())\n",
    "print(\"Boston last_scraped:\")\n",
    "print(boston_listings.last_scraped.value_counts())\n",
    "print(\"Seattle experiences_offered:\")\n",
    "print(seattle_listings.experiences_offered.value_counts())\n",
    "print(\"Boston experiences_offered:\")\n",
    "print(boston_listings.experiences_offered.value_counts())\n",
    "print(\"Seattle requires_license:\")\n",
    "print(seattle_listings.requires_license.value_counts())\n",
    "print(\"Boston requires_license:\")\n",
    "print(boston_listings.requires_license.value_counts())\n",
    "print(\"Seattle city:\")\n",
    "print(seattle_listings.city.value_counts())\n",
    "# print(\"Boston city:\")\n",
    "# print(boston_listings.city.value_counts()) # has a lot of different values\n",
    "print(\"Seattle jurisdiction_names:\")\n",
    "print(seattle_listings.jurisdiction_names.value_counts())\n",
    "print(\"Boston jurisdiction_names:\")\n",
    "print(boston_listings.jurisdiction_names.value_counts()) # All NaNs\n",
    "print(\"Seattle country_code:\")\n",
    "print(seattle_listings.country_code.value_counts())\n",
    "print(\"Boston country_code:\")\n",
    "print(boston_listings.country_code.value_counts())\n",
    "print(\"Seattle country:\")\n",
    "print(seattle_listings.country.value_counts())\n",
    "print(\"Boston country:\")\n",
    "print(boston_listings.country.value_counts())\n",
    "print(\"Seattle city:\")\n",
    "print(seattle_listings.city.value_counts())\n",
    "print(\"Boston city:\")\n",
    "print(boston_listings.city.value_counts())\n",
    "print(\"Seattle smart_location:\")\n",
    "print(seattle_listings.smart_location.value_counts())\n",
    "# print(\"Boston smart_location:\")\n",
    "# print(boston_listings.smart_location.value_counts()) # has a lot of different values\n",
    "print(\"Seattle market:\")\n",
    "print(seattle_listings.market.value_counts())\n",
    "print(\"Boston market:\")\n",
    "print(boston_listings.market.value_counts())\n",
    "print(\"Seattle calendar_last_scraped:\")\n",
    "print(seattle_listings.calendar_last_scraped.value_counts())\n",
    "print(\"Boston calendar_last_scraped:\")\n",
    "print(boston_listings.calendar_last_scraped.value_counts())"
   ]
  },
  {
   "cell_type": "code",
   "execution_count": 21,
   "metadata": {},
   "outputs": [
    {
     "data": {
      "text/plain": [
       "host_acceptance_rate     79.753798\n",
       "host_about               77.501310\n",
       "transit                  75.536930\n",
       "cleaning_fee             73.022525\n",
       "neighborhood_overview    72.970141\n",
       "notes                    57.936092\n",
       "weekly_price             52.619172\n",
       "security_deposit         48.873756\n",
       "monthly_price            39.732844\n",
       "dtype: float64"
      ]
     },
     "execution_count": 21,
     "metadata": {},
     "output_type": "execute_result"
    }
   ],
   "source": [
    "(seattle_listings.notna().sum(axis=0) / seattle_listings.shape[0]*100)[seattle_listings.notna().sum(axis=0) / seattle_listings.shape[0] < 0.8 ].sort_values(ascending = False)"
   ]
  },
  {
   "cell_type": "code",
   "execution_count": 16,
   "metadata": {},
   "outputs": [],
   "source": [
    "seattle_listings.drop(columns = ['license','square_feet','requires_license',\n",
    "                                 'experiences_offered','city',\n",
    "                                 'city','jurisdiction_names',\n",
    "                                 'market','smart_location',\n",
    "                                'country_code','country',\n",
    "                                'scrape_id','last_scraped','calendar_last_scraped'],inplace=True)"
   ]
  },
  {
   "cell_type": "code",
   "execution_count": 20,
   "metadata": {},
   "outputs": [
    {
     "data": {
      "text/plain": [
       "reviews_per_month              78.912134\n",
       "last_review                    78.912134\n",
       "first_review                   78.912134\n",
       "review_scores_rating           77.322176\n",
       "review_scores_communication    77.182706\n",
       "review_scores_cleanliness      77.182706\n",
       "review_scores_checkin          77.126918\n",
       "review_scores_value            77.099024\n",
       "review_scores_location         77.071130\n",
       "review_scores_accuracy         77.043236\n",
       "space                          70.516039\n",
       "cleaning_fee                   69.121339\n",
       "house_rules                    66.750349\n",
       "transit                        64.016736\n",
       "host_about                     63.486750\n",
       "neighborhood_overview          60.529986\n",
       "access                         58.465830\n",
       "interaction                    56.652720\n",
       "notes                          44.909344\n",
       "security_deposit               37.433752\n",
       "weekly_price                   24.881450\n",
       "monthly_price                  24.769874\n",
       "dtype: float64"
      ]
     },
     "execution_count": 20,
     "metadata": {},
     "output_type": "execute_result"
    }
   ],
   "source": [
    "(boston_listings.notna().sum(axis=0) / boston_listings.shape[0]*100)[boston_listings.notna().sum(axis=0) / boston_listings.shape[0] < 0.8 ].sort_values(ascending = False)"
   ]
  },
  {
   "cell_type": "code",
   "execution_count": 18,
   "metadata": {},
   "outputs": [],
   "source": [
    "(boston_listings.notna().sum(axis=0) / boston_listings.shape[0]*100)[boston_listings.notna().sum(axis=0) / boston_listings.shape[0] < 0.8 ].sort_values(asciiFalse)"
   ]
  },
  {
   "cell_type": "markdown",
   "metadata": {},
   "source": [
    "The attributes can be thought of as in groups: \n",
    "0. The listing link\n",
    "1. Describtive attributes about the listing. These are textual data describing different aspects of the listing. This includes name, summary, space, description, 'neighborhood_overview',notes, transit, access, interaction, house_rules.\n",
    "2. Different forms of the listing picture : thumbnail_url, medium_url, picture_url, xl_picture_url\n",
    "3. Host-specific attributes\n",
    "4. Other numeric and categorical data."
   ]
  },
  {
   "cell_type": "markdown",
   "metadata": {},
   "source": [
    "# 1. Business Understanding."
   ]
  },
  {
   "cell_type": "markdown",
   "metadata": {},
   "source": [
    "After we got a look through the Data. Now is the time for analyzing from a business prespective. \n",
    "\n",
    "The first question that comes to mind is: How well can we predict the listing prices ? \n",
    "\n",
    "The second question is a related one which is: Which attributes correlate the most with the price of the listing? \n",
    "\n",
    "The third question is: Can we find a specific distribution of price changes during a whole calendar year ? \n",
    "\n",
    "The Fourth quation is: What are the similarities and differences between the Boston and Seattle Data? "
   ]
  },
  {
   "cell_type": "markdown",
   "metadata": {},
   "source": [
    "# Miscellaneous "
   ]
  },
  {
   "cell_type": "code",
   "execution_count": null,
   "metadata": {},
   "outputs": [],
   "source": [
    "c=0\n",
    "for l_id in boston_listings.id.tolist():\n",
    "    if boston_calendar[boston_calendar.listing_id == l_id].price.notna().sum()>356:\n",
    "        c+=1"
   ]
  },
  {
   "cell_type": "code",
   "execution_count": null,
   "metadata": {},
   "outputs": [],
   "source": [
    "c"
   ]
  },
  {
   "cell_type": "code",
   "execution_count": null,
   "metadata": {},
   "outputs": [],
   "source": [
    "len(seattle_listings.neighborhood_overview.unique())"
   ]
  },
  {
   "cell_type": "code",
   "execution_count": null,
   "metadata": {},
   "outputs": [],
   "source": [
    "word_cnt_dict_seattle = {}\n",
    "for listing in range(seattle_listings.shape[0]):\n",
    "    for word in seattle_listings.iloc[listing]['name'].strip().split():\n",
    "        word = word.lower()\n",
    "        if word in ['in', 'the', 'with','of', 'to', 'and', 'on', 'a', 'at','by', 'between'] or not word.isalnum():\n",
    "            continue\n",
    "        if word not in word_cnt_dict_seattle:\n",
    "            word_cnt_dict_seattle[word] = 1\n",
    "        else:\n",
    "            word_cnt_dict_seattle[word] += 1\n",
    "word_cnt_dict_seattle = OrderedDict(sorted(word_cnt_dict_seattle.items(), key=lambda t: t[1],reverse=True))"
   ]
  },
  {
   "cell_type": "code",
   "execution_count": null,
   "metadata": {},
   "outputs": [],
   "source": [
    "word_cnt_dict_seattle"
   ]
  },
  {
   "cell_type": "code",
   "execution_count": null,
   "metadata": {},
   "outputs": [],
   "source": [
    "for listing in range(seattle_listings.shape[0]):\n",
    "    if 'hill' in  seattle_listings.iloc[listing]['name'].lower().strip().split():\n",
    "        print(seattle_listings.iloc[listing]['name'].lower())"
   ]
  },
  {
   "cell_type": "code",
   "execution_count": null,
   "metadata": {},
   "outputs": [],
   "source": [
    "for listing in range(seattle_listings.shape[0]):\n",
    "    if 'room' in  seattle_listings.iloc[listing]['name'].lower().strip().split():\n",
    "        print(seattle_listings.iloc[listing]['name'].lower())"
   ]
  },
  {
   "cell_type": "code",
   "execution_count": null,
   "metadata": {},
   "outputs": [],
   "source": [
    "len(word_cnt_dict_seattle)"
   ]
  },
  {
   "cell_type": "code",
   "execution_count": null,
   "metadata": {},
   "outputs": [],
   "source": [
    "seattle_listings.xl_picture_url[5]"
   ]
  },
  {
   "cell_type": "code",
   "execution_count": null,
   "metadata": {},
   "outputs": [],
   "source": [
    "word_cnt_dict_seattle = {}\n",
    "seattle_listings_temp = seattle_listings[seattle_listings.host_location.notna()]\n",
    "for listing in range(seattle_listings_temp.shape[0]):\n",
    "    for word in seattle_listings_temp.iloc[listing]['host_location'].strip().split():\n",
    "        word = word.lower()\n",
    "        if word in ['in', 'the', 'with','of', 'to', 'and', 'on', 'a', 'at','by', 'between']:\n",
    "            continue\n",
    "        if word not in word_cnt_dict_seattle:\n",
    "            word_cnt_dict_seattle[word] = 1\n",
    "        else:\n",
    "            word_cnt_dict_seattle[word] += 1\n",
    "word_cnt_dict_seattle = OrderedDict(sorted(word_cnt_dict_seattle.items(), key=lambda t: t[1],reverse=True))\n",
    "word_cnt_dict_seattle"
   ]
  },
  {
   "cell_type": "code",
   "execution_count": null,
   "metadata": {},
   "outputs": [],
   "source": [
    "seattle_listings.iloc[listing]['host_location']"
   ]
  },
  {
   "cell_type": "code",
   "execution_count": null,
   "metadata": {},
   "outputs": [],
   "source": [
    "seattle_listings.require_guest_profile_picture.value_counts()"
   ]
  }
 ],
 "metadata": {
  "kernelspec": {
   "display_name": "Python 3",
   "language": "python",
   "name": "python3"
  },
  "language_info": {
   "codemirror_mode": {
    "name": "ipython",
    "version": 3
   },
   "file_extension": ".py",
   "mimetype": "text/x-python",
   "name": "python",
   "nbconvert_exporter": "python",
   "pygments_lexer": "ipython3",
   "version": "3.6.7"
  }
 },
 "nbformat": 4,
 "nbformat_minor": 2
}
